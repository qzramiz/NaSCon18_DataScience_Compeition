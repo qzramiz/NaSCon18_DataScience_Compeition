{
 "cells": [
  {
   "cell_type": "code",
   "execution_count": 1,
   "metadata": {},
   "outputs": [
    {
     "name": "stderr",
     "output_type": "stream",
     "text": [
      "D:\\Installed Softwares\\Anaconda\\lib\\site-packages\\pandas\\computation\\__init__.py:19: UserWarning: The installed version of numexpr 2.4.4 is not supported in pandas and will be not be used\n",
      "\n",
      "  UserWarning)\n"
     ]
    }
   ],
   "source": [
    "import os\n",
    "import pandas as pd\n",
    "import copy\n",
    "# from biosppy.signals import ecg"
   ]
  },
  {
   "cell_type": "code",
   "execution_count": 2,
   "metadata": {
    "collapsed": true
   },
   "outputs": [],
   "source": [
    "test_dir = 'TestECGData'\n",
    "train_dir = 'TrainECGData'\n",
    "sample = 'sample_file.csv'\n",
    "train_main = 'Patient_Records_Train.csv'\n",
    "test_main = 'Patient_Records_Test.csv'"
   ]
  },
  {
   "cell_type": "code",
   "execution_count": 3,
   "metadata": {
    "collapsed": true
   },
   "outputs": [],
   "source": [
    "def get_ecg_records(base_dir):\n",
    "    all_pa_ecgs = pd.DataFrame()\n",
    "    for idx, f in enumerate(os.listdir(base_dir)):\n",
    "        print idx\n",
    "        pa_ecgs = pd.DataFrame()\n",
    "        ecg_files = os.listdir(base_dir+'/'+f)\n",
    "        for efile in ecg_files:\n",
    "            df_ecg = pd.read_csv(base_dir+'/'+f+'/'+efile, index_col=False)\n",
    "            df_ecg['ecg_id'] = efile.replace('.csv','')\n",
    "            pa_ecgs = pd.concat([pa_ecgs, df_ecg])\n",
    "        pa_ecgs['pat_id'] = f\n",
    "        all_pa_ecgs = pd.concat([pa_ecgs, all_pa_ecgs])\n",
    "        \n",
    "    return all_pa_ecgs"
   ]
  },
  {
   "cell_type": "code",
   "execution_count": null,
   "metadata": {
    "collapsed": true
   },
   "outputs": [],
   "source": [
    "# all_ecgs_rec_train = get_ecg_records(train_dir)"
   ]
  },
  {
   "cell_type": "code",
   "execution_count": 3,
   "metadata": {
    "collapsed": true
   },
   "outputs": [],
   "source": [
    "def get_ecg_counts(base_dir):\n",
    "    all_pa_ecgs = pd.DataFrame()\n",
    "    \n",
    "    for idx, f in enumerate(os.listdir(base_dir)):\n",
    "        ecg_files = os.listdir(base_dir+'/'+f)\n",
    "        pa_ecgs = pd.DataFrame([[f, len(ecg_files)]], columns=['patientID','ecg_count'])\n",
    "        all_pa_ecgs = pd.concat([pa_ecgs, all_pa_ecgs])\n",
    "        \n",
    "    return all_pa_ecgs"
   ]
  },
  {
   "cell_type": "code",
   "execution_count": 4,
   "metadata": {
    "collapsed": true
   },
   "outputs": [],
   "source": [
    "def work_on_columns(df, to_remove_list, to_replace):\n",
    "    df = copy.deepcopy(df)\n",
    "    \n",
    "    for col in df.columns:\n",
    "        df[col] = df[col].astype(str).str.lower().str.strip()\n",
    "        \n",
    "        for r in to_remove_list:\n",
    "            true_indices = df[col] == r\n",
    "            df.loc[true_indices, col] = to_replace\n",
    "            \n",
    "        try:\n",
    "            \"\"\" Try to Convert to Float if the columns has to be in float \"\"\"\n",
    "            df[col] = df[col].str.replace('n/a','-1').astype(float)\n",
    "\n",
    "        except:\n",
    "            \"\"\" Column has to be in string format \"\"\"\n",
    "            pass\n",
    "    \n",
    "    return df"
   ]
  },
  {
   "cell_type": "code",
   "execution_count": 5,
   "metadata": {
    "collapsed": true
   },
   "outputs": [],
   "source": [
    "def split_and_hot_encode(df, col_name, delimiter=''):\n",
    "    df = copy.deepcopy(df)\n",
    "    if delimiter == '':\n",
    "        splitted_df = df[col_name].apply(lambda x: [x.strip()])\n",
    "    else:\n",
    "        splitted_df = df[col_name].apply(lambda x: [i.strip()  for i in x.split(delimiter)] )\n",
    "    splitted_df = splitted_df.str.join('|').str.get_dummies()\n",
    "    splitted_df.columns = col_name+\"_\"+splitted_df.columns\n",
    "    df = df.drop(col_name,1).join(splitted_df)\n",
    "    return df"
   ]
  },
  {
   "cell_type": "code",
   "execution_count": 6,
   "metadata": {
    "collapsed": true
   },
   "outputs": [],
   "source": [
    "def convert_to_boolean(df, col_name, false_val='n/a'):\n",
    "    df = copy.deepcopy(df)\n",
    "    true_indices = df[col_name] == false_val\n",
    "    df.loc[true_indices, col_name] = 0\n",
    "    df.loc[~(true_indices), col_name] = 1\n",
    "    return df"
   ]
  },
  {
   "cell_type": "code",
   "execution_count": 7,
   "metadata": {
    "collapsed": true
   },
   "outputs": [],
   "source": [
    "def numeric_and_hot_encode(df):\n",
    "    df = copy.deepcopy(df)\n",
    "    df = split_and_hot_encode(df, 'Acute infarction (localization)', '-')\n",
    "    df = split_and_hot_encode(df, 'Additional diagnoses', ',')\n",
    "    df = split_and_hot_encode(df, 'Additional medication', ' ')\n",
    "    df = split_and_hot_encode(df, 'Dosage (lytic agent)', '')\n",
    "    df = split_and_hot_encode(df, 'In hospital medication', ' ')\n",
    "    df = split_and_hot_encode(df, 'Lytic agent', ' ')\n",
    "    df = split_and_hot_encode(df, 'Smoker', '')\n",
    "    df = split_and_hot_encode(df, 'Sex', '')\n",
    "    df = split_and_hot_encode(df, 'Former infarction (localization)', ',')\n",
    "    \n",
    "    to_del_col = ['Chest X-ray','Admission date']\n",
    "    to_convert_boolean = ['Catheterization date','Echocardiography','Infarction date','Infarction date (acute)','Left coronary artery stenoses (RCX)','Left coronary artery stenoses (RIVA)','Medication after discharge','Medication pre admission','Previous infarction (2) date','Right coronary artery stenoses (RCA)','Ventriculography' ]\n",
    "    \n",
    "    for col_bool in to_convert_boolean:\n",
    "        df = convert_to_boolean(df, col_bool)\n",
    "        \n",
    "    for to_del in to_del_col:\n",
    "        df = df.drop(to_del, 1)\n",
    "    \n",
    "    return df"
   ]
  },
  {
   "cell_type": "code",
   "execution_count": 671,
   "metadata": {
    "collapsed": true
   },
   "outputs": [],
   "source": [
    "train_df = pd.read_csv(train_main)\n",
    "test_df = pd.read_csv(test_main)\n",
    "use_test = copy.deepcopy(test_df)\n",
    "\n",
    "train_df = train_df.fillna('-1')\n",
    "test_df = test_df.fillna('-1')"
   ]
  },
  {
   "cell_type": "code",
   "execution_count": 672,
   "metadata": {
    "collapsed": true
   },
   "outputs": [],
   "source": [
    "imp_cols = ['Smoker','Sex','patientID','Acute infarction (localization)','Additional diagnoses', 'Former infarction (localization)','Ventriculography','Number of coronary vessels involved','Medication after discharge','In hospital medication','Dosage (lytic agent)']\n",
    "train_df = train_df[imp_cols+['Disease']]\n",
    "test_df = test_df[imp_cols]\n",
    "\n",
    "\n",
    "general_garbage = ['n/a']\n",
    "train_df= work_on_columns(df=train_df, to_remove_list=general_garbage, to_replace='n/a')\n",
    "test_df= work_on_columns(df=test_df, to_remove_list=general_garbage, to_replace='n/a')"
   ]
  },
  {
   "cell_type": "code",
   "execution_count": 673,
   "metadata": {
    "collapsed": true
   },
   "outputs": [],
   "source": [
    "# to_use_diag = ['aortic stenosis','regurgitation','aortic','coronary artery disease','hypertrophic','renal insufficiency','ventricular','atrial fibrillation','atrial flutter','congenital complete av-block','hypertropic','palpitation'] \n",
    "to_use_diag = ['cardiomyopathy','no'] "
   ]
  },
  {
   "cell_type": "code",
   "execution_count": 674,
   "metadata": {
    "collapsed": true
   },
   "outputs": [],
   "source": [
    "to_use_diag_cols = []\n",
    "all_diags = set(','.join(list(train_df['Additional diagnoses'].unique())).split(','))\n",
    "for diag in all_diags:\n",
    "    for to_use in to_use_diag:\n",
    "        if to_use in diag:\n",
    "            to_use_diag_cols.append(diag.strip())\n",
    "            break"
   ]
  },
  {
   "cell_type": "code",
   "execution_count": 675,
   "metadata": {
    "collapsed": true
   },
   "outputs": [],
   "source": [
    "train_df['Additional diagnoses'] = train_df['Additional diagnoses'].apply(lambda x: ','.join(list(set([i.strip() for i in x.split(',')]) & set(to_use_diag_cols))))\n",
    "test_df['Additional diagnoses'] = test_df['Additional diagnoses'].apply(lambda x: ','.join(list(set([i.strip() for i in x.split(',')]) & set(to_use_diag_cols))))\n",
    "\n",
    "train_df.loc[train_df['Additional diagnoses'] == '', ['Additional diagnoses']] = 'default'\n",
    "test_df.loc[test_df['Additional diagnoses'] == '', ['Additional diagnoses']] = 'default'\n",
    "\n",
    "train_df['Acute infarction (localization)'] = train_df['Acute infarction (localization)'].apply(lambda x: x if (x=='no' or x=='n/a' or x=='unknown') else 'position')\n",
    "test_df['Acute infarction (localization)'] = test_df['Acute infarction (localization)'].apply(lambda x: x if (x=='no' or x=='n/a' or x=='unknown') else 'position')\n",
    "\n",
    "train_df['Former infarction (localization)'] = train_df['Former infarction (localization)'].apply(lambda x: x if (x=='no' or x=='unknown') else 'position')\n",
    "test_df['Former infarction (localization)'] = test_df['Former infarction (localization)'].apply(lambda x: x if (x=='no' or x=='unknown') else 'position')"
   ]
  },
  {
   "cell_type": "code",
   "execution_count": 679,
   "metadata": {
    "collapsed": true
   },
   "outputs": [],
   "source": [
    "# train_df.loc[train_df['Additional diagnoses'].str.contains('cardiomyopathy'), ['Additional diagnoses']] = 'cardiomyopathy'\n",
    "# test_df.loc[test_df['Additional diagnoses'].str.contains('cardiomyopathy'), ['Additional diagnoses']] = 'cardiomyopathy'"
   ]
  },
  {
   "cell_type": "code",
   "execution_count": 243,
   "metadata": {
    "collapsed": true
   },
   "outputs": [],
   "source": [
    "# train_df['Additional diagnoses'] = train_df['Additional diagnoses'].apply(lambda x: x if (x=='no' or x=='cardiomyopathy') else 'position')\n",
    "# test_df['Additional diagnoses'] = test_df['Additional diagnoses'].apply(lambda x: x if (x=='no' or x=='cardiomyopathy') else 'position')"
   ]
  },
  {
   "cell_type": "code",
   "execution_count": 302,
   "metadata": {
    "collapsed": true
   },
   "outputs": [],
   "source": [
    "def clear_records(df, col_name, to_replace):\n",
    "    df = copy.deepcopy(df)\n",
    "#     df = df\n",
    "    df[col_name] = df[col_name].apply(lambda x: [to_replace if x in i else i for i in to_replace])\n",
    "    return df"
   ]
  },
  {
   "cell_type": "code",
   "execution_count": 303,
   "metadata": {
    "collapsed": true
   },
   "outputs": [],
   "source": [
    "# to_replace = ['hyperlipoproteinemia','aortic stenosis','cardioverter-defibrillator','dilated cardiomyopathy','heart failure','hypertrophic obstructive cardiomyopathy','mitral regurgitation','postop. acvb','recurrent ventricular tachycardia','atherosclerosis','wpw','dilated cardiomyopathy']\n",
    "# col_name = 'Additional diagnoses'\n",
    "# # train_df[col_name] = train_df[col_name].str.split(',')\n",
    "# # test_df[col_name] = test_df[col_name].str.split(',')"
   ]
  },
  {
   "cell_type": "code",
   "execution_count": 393,
   "metadata": {},
   "outputs": [],
   "source": [
    "# train_ecg_counts = get_ecg_counts(train_dir).astype(float).reset_index(drop=True)\n",
    "# test_ecg_counts = get_ecg_counts(test_dir).astype(float).reset_index(drop=True)"
   ]
  },
  {
   "cell_type": "code",
   "execution_count": 14,
   "metadata": {
    "collapsed": true
   },
   "outputs": [],
   "source": [
    "# train_df = train_df.merge(train_ecg_counts, on=['patientID'], how='inner')\n",
    "# test_df = test_df.merge(test_ecg_counts, on=['patientID'], how='inner')"
   ]
  },
  {
   "cell_type": "code",
   "execution_count": 680,
   "metadata": {
    "collapsed": true
   },
   "outputs": [],
   "source": [
    "# train_df[['ecg_count','Disease']].value_counts()\n",
    "def selected_cols(df):\n",
    "    df = copy.deepcopy(df)\n",
    "    df = split_and_hot_encode(df, 'Former infarction (localization)', '-')\n",
    "    df = split_and_hot_encode(df, 'Acute infarction (localization)', '')\n",
    "    df = split_and_hot_encode(df, 'Additional diagnoses', ',')\n",
    "    df = split_and_hot_encode(df, 'Ventriculography', ' ')\n",
    "    df = split_and_hot_encode(df, 'Medication after discharge', ' ')\n",
    "    df = split_and_hot_encode(df, 'In hospital medication', ' ')\n",
    "    df = split_and_hot_encode(df, 'Dosage (lytic agent)', ' ')    \n",
    "    df = split_and_hot_encode(df, 'Sex', '')\n",
    "    df = split_and_hot_encode(df, 'Smoker', '')\n",
    "    \n",
    "    return df"
   ]
  },
  {
   "cell_type": "code",
   "execution_count": 681,
   "metadata": {},
   "outputs": [],
   "source": [
    "# train_df = numeric_and_hot_encode(train_df)\n",
    "# test_df = numeric_and_hot_encode(test_df)\n",
    "\n",
    "train_df = selected_cols(train_df)\n",
    "test_df = selected_cols(test_df)\n",
    "\n",
    "train_df.columns = [c.lower().strip() for c in train_df.columns]\n",
    "test_df.columns = [c.lower().strip() for c in test_df.columns]\n",
    "\n",
    "common_cols = list(set(train_df.columns) & set(test_df.columns))"
   ]
  },
  {
   "cell_type": "code",
   "execution_count": 682,
   "metadata": {
    "collapsed": true
   },
   "outputs": [],
   "source": [
    "label = 'disease'\n",
    "\n",
    "train_df = train_df[common_cols+[label]]\n",
    "test_df = test_df[common_cols]"
   ]
  },
  {
   "cell_type": "code",
   "execution_count": 683,
   "metadata": {},
   "outputs": [],
   "source": [
    "from sklearn.preprocessing import LabelEncoder\n",
    "from sklearn.cross_validation import train_test_split\n",
    "from sklearn.ensemble import RandomForestClassifier\n",
    "from sklearn.metrics import f1_score\n",
    "from sklearn.linear_model import LinearRegression\n",
    "from sklearn import svm\n",
    "# from sklearn.ensemble import GradientBoostingClassifier"
   ]
  },
  {
   "cell_type": "code",
   "execution_count": 684,
   "metadata": {
    "collapsed": true
   },
   "outputs": [],
   "source": [
    "lb_make = LabelEncoder()\n",
    "train_df[label] = lb_make.fit_transform(train_df[label])"
   ]
  },
  {
   "cell_type": "code",
   "execution_count": 685,
   "metadata": {
    "collapsed": true
   },
   "outputs": [],
   "source": [
    "X = train_df[train_df.columns.difference([label])]\n",
    "Y = train_df[[label]]"
   ]
  },
  {
   "cell_type": "code",
   "execution_count": 686,
   "metadata": {
    "collapsed": true
   },
   "outputs": [],
   "source": [
    "X = X[X.columns.difference(['patientid'])]"
   ]
  },
  {
   "cell_type": "code",
   "execution_count": 687,
   "metadata": {},
   "outputs": [],
   "source": [
    "X_train, X_test, y_train, y_test = train_test_split(X, Y, test_size=0.25, random_state=42)"
   ]
  },
  {
   "cell_type": "code",
   "execution_count": 706,
   "metadata": {},
   "outputs": [],
   "source": [
    "# X_train.columns\n",
    "model = GradientBoostingClassifier(n_estimators=50, max_features=0.8)"
   ]
  },
  {
   "cell_type": "code",
   "execution_count": 704,
   "metadata": {
    "collapsed": true
   },
   "outputs": [],
   "source": [
    "model = RandomForestClassifier(max_features=0.5, n_estimators=50, criterion='gini')"
   ]
  },
  {
   "cell_type": "code",
   "execution_count": 707,
   "metadata": {},
   "outputs": [
    {
     "data": {
      "text/plain": [
       "GradientBoostingClassifier(criterion='friedman_mse', init=None,\n",
       "              learning_rate=0.1, loss='deviance', max_depth=3,\n",
       "              max_features=0.8, max_leaf_nodes=None,\n",
       "              min_impurity_split=1e-07, min_samples_leaf=1,\n",
       "              min_samples_split=2, min_weight_fraction_leaf=0.0,\n",
       "              n_estimators=50, presort='auto', random_state=None,\n",
       "              subsample=1.0, verbose=0, warm_start=False)"
      ]
     },
     "execution_count": 707,
     "metadata": {},
     "output_type": "execute_result"
    }
   ],
   "source": [
    "model.fit(X, Y)\n",
    "\n",
    "# model.fit(X_train, y_train)\n",
    "\n",
    "# ypredicted = model.predict(X_test)\n",
    "# print model.score(X_test, y_test)\n",
    "\n",
    "\n",
    "# print f1_score(y_test.disease.values, ypredicted, average='weighted')"
   ]
  },
  {
   "cell_type": "code",
   "execution_count": 424,
   "metadata": {
    "collapsed": true
   },
   "outputs": [],
   "source": [
    "important_cols = sorted(zip(map(lambda x: round(x, 4), model.feature_importances_), X_train.columns), \n",
    "             reverse=True)"
   ]
  },
  {
   "cell_type": "code",
   "execution_count": 425,
   "metadata": {},
   "outputs": [
    {
     "data": {
      "text/plain": [
       "[(0.1891, 'acute infarction (localization)_no'),\n",
       " (0.1889, 'additional diagnoses_no'),\n",
       " (0.0931, 'additional diagnoses_default'),\n",
       " (0.0849, 'former infarction (localization)_no'),\n",
       " (0.0772, 'number of coronary vessels involved'),\n",
       " (0.0769, 'additional diagnoses_hypertrophic obstructive cardiomyopathy'),\n",
       " (0.072, 'ventriculography_n/a'),\n",
       " (0.0519, 'former infarction (localization)_n/a'),\n",
       " (0.0486, 'former infarction (localization)_unknown'),\n",
       " (0.0437, 'acute infarction (localization)_n/a'),\n",
       " (0.038, 'additional diagnoses_atrial fibrillation'),\n",
       " (0.0207, 'additional diagnoses_congenital complete av-block'),\n",
       " (0.0077, 'in hospital medication_n/a'),\n",
       " (0.0072, 'medication after discharge_n/a')]"
      ]
     },
     "execution_count": 425,
     "metadata": {},
     "output_type": "execute_result"
    }
   ],
   "source": [
    "important_cols"
   ]
  },
  {
   "cell_type": "code",
   "execution_count": 708,
   "metadata": {},
   "outputs": [
    {
     "data": {
      "text/plain": [
       "Myocardial infarction    50\n",
       "Healthy control          28\n",
       "Dysrhythmia              11\n",
       "Unidentified              8\n",
       "Hypertrophy               6\n",
       "Cardiomyopathy            5\n",
       "Bundle branch block       2\n",
       "Name: Disease, dtype: int64"
      ]
     },
     "execution_count": 708,
     "metadata": {},
     "output_type": "execute_result"
    }
   ],
   "source": [
    "pat_id_test = test_df.patientid.values\n",
    "results = model.predict(test_df[test_df.columns.difference(['patientid'])])\n",
    "results = list(lb_make.inverse_transform(results))\n",
    "\n",
    "pred_result = pd.DataFrame(zip(pat_id_test, results), columns=['patientID','Disease'])\n",
    "pred_result.patientID = pred_result.patientID.astype(int)\n",
    "pred_result.Disease = pred_result.Disease.apply(lambda x: (x[0].upper())+x[1:])\n",
    "\n",
    "pred_result.Disease.value_counts()"
   ]
  },
  {
   "cell_type": "code",
   "execution_count": 716,
   "metadata": {
    "collapsed": true
   },
   "outputs": [],
   "source": [
    "pred_result.to_csv('pred_v9.csv', index=False)\n"
   ]
  },
  {
   "cell_type": "code",
   "execution_count": 709,
   "metadata": {
    "collapsed": true
   },
   "outputs": [],
   "source": [
    "umer = pd.read_csv('nsubmit11.csv', index_col=False)\n",
    "comp = pred_result.merge(umer, on=['patientID'])\n",
    "comp = comp.merge(use_test[['patientID','Usage']], on=['patientID'], how='inner')\n",
    "a = comp[comp.Disease_x != comp.Disease_y]\n"
   ]
  },
  {
   "cell_type": "code",
   "execution_count": 714,
   "metadata": {},
   "outputs": [
    {
     "data": {
      "text/plain": [
       "Myocardial infarction    50\n",
       "Healthy control          28\n",
       "Dysrhythmia              11\n",
       "Unidentified              8\n",
       "Hypertrophy               6\n",
       "Cardiomyopathy            5\n",
       "Bundle branch block       2\n",
       "Name: Disease, dtype: int64"
      ]
     },
     "execution_count": 714,
     "metadata": {},
     "output_type": "execute_result"
    }
   ],
   "source": [
    "pred_result.Disease.value_counts()"
   ]
  },
  {
   "cell_type": "code",
   "execution_count": 715,
   "metadata": {},
   "outputs": [
    {
     "data": {
      "text/plain": [
       "Myocardial infarction     50\n",
       "Healthy control           27\n",
       "Unidentified               8\n",
       "Cardiomyopathy             7\n",
       "Bundle branch block        5\n",
       "Hypertrophy                4\n",
       "Dysrhythmia                4\n",
       "Myocarditis                2\n",
       "Valvular heart disease     2\n",
       "Bundle branch block        1\n",
       "Name: Disease, dtype: int64"
      ]
     },
     "execution_count": 715,
     "metadata": {},
     "output_type": "execute_result"
    }
   ],
   "source": [
    "umer.Disease.value_counts()"
   ]
  },
  {
   "cell_type": "code",
   "execution_count": 651,
   "metadata": {},
   "outputs": [
    {
     "data": {
      "text/plain": [
       "5"
      ]
     },
     "execution_count": 651,
     "metadata": {},
     "output_type": "execute_result"
    }
   ],
   "source": [
    "# # dis = 'Myocardial infarction'\n",
    "# # dis = 'Unidentified'\n",
    "# # dis = 'Healthy control'\n",
    "# # dis = 'Hypertrophy'\n",
    "# # dis = 'Dysrhythmia'\n",
    "# dis = 'Cardiomyopathy'\n",
    "# # dis = 'Dysrhythmia'\n",
    "# # dis = 'Bundle branch block'\n",
    "# umer_dis = set(umer[umer.Disease == dis].patientID.values)\n",
    "# model_dis = set(pred_result[pred_result.Disease == dis].patientID.values)\n",
    "# len(umer_dis & model_dis)"
   ]
  },
  {
   "cell_type": "code",
   "execution_count": null,
   "metadata": {
    "collapsed": true
   },
   "outputs": [],
   "source": [
    "umer_dis = set(umer[umer.Disease == dis].patientID.values)\n",
    "model_dis = set(abc[abc.Disease == dis].patientID.values)\n",
    "len(umer_dis & model_dis)"
   ]
  },
  {
   "cell_type": "code",
   "execution_count": 342,
   "metadata": {
    "collapsed": true
   },
   "outputs": [],
   "source": [
    "pred_result.to_csv('pred_v4_90.csv', index=False)"
   ]
  },
  {
   "cell_type": "code",
   "execution_count": 416,
   "metadata": {
    "collapsed": true
   },
   "outputs": [],
   "source": [
    "col_to_use = []\n",
    "for idx, col in enumerate(important_cols):\n",
    "    if idx == 14:\n",
    "        break\n",
    "    col_to_use.append(col[1])"
   ]
  },
  {
   "cell_type": "code",
   "execution_count": null,
   "metadata": {
    "collapsed": true
   },
   "outputs": [],
   "source": [
    "all_pa_ecgs.to_csv('All_ECGS_Train.csv', index=False)\n",
    "all_train_ecg = pd.read_csv('All_ECGS_Train.csv')\n",
    "ecg_rec = pd.read_csv('TestECGData/1/0.csv')\n",
    "result = ecg.ecg(signal=ecg_rec[\"'i'\"].values, sampling_rate=1000, show=True)\n",
    "print result"
   ]
  }
 ],
 "metadata": {
  "kernelspec": {
   "display_name": "Python 2",
   "language": "python",
   "name": "python2"
  },
  "language_info": {
   "codemirror_mode": {
    "name": "ipython",
    "version": 2
   },
   "file_extension": ".py",
   "mimetype": "text/x-python",
   "name": "python",
   "nbconvert_exporter": "python",
   "pygments_lexer": "ipython2",
   "version": "2.7.13"
  }
 },
 "nbformat": 4,
 "nbformat_minor": 2
}
